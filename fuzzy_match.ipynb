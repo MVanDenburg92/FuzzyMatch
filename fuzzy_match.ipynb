{
 "cells": [
  {
   "cell_type": "code",
   "execution_count": null,
   "id": "6418815f",
   "metadata": {},
   "outputs": [],
   "source": [
    "from Fuzzy_Match import FuzzyMatcher\n",
    "import pandas as pd"
   ]
  },
  {
   "cell_type": "code",
   "execution_count": null,
   "id": "87f10be6",
   "metadata": {},
   "outputs": [],
   "source": [
    "# Initialize\n",
    "matcher = FuzzyMatcher(threshold=80)\n",
    "\n",
    "# Load your CSVs\n",
    "matcher.load_csv(r\"\", 'Options_Master_TEST')\n",
    "matcher.load_csv(r\"\", 'Market_Options_ID')\n",
    "\n",
    "# Combine address fields before matching\n",
    "results = matcher.fuzzy_match_many_to_one(\n",
    "    \"Options_Master_TEST\",\n",
    "    \"Market_Options_ID\",\n",
    "    df1_columns=[\"SITE(Address)\", \"CITY\", \"STATE\", 'ZIP / POSTAL CODE'],\n",
    "    df2_column=\"Project Location\",\n",
    "    combine_method='concatenate'  # Join all columns first\n",
    ")\n",
    "\n",
    "# Export\n",
    "matcher.export_results(results, 'matches.csv')\n",
    "\n",
    "results"
   ]
  },
  {
   "cell_type": "code",
   "execution_count": null,
   "id": "f929c45b",
   "metadata": {},
   "outputs": [],
   "source": [
    "# Initialize\n",
    "matcher = FuzzyMatcher(threshold=80)\n",
    "\n",
    "# Load your CSVs\n",
    "\n",
    "# # Match on single column\n",
    "# results = matcher.fuzzy_match_single_column(\n",
    "#     'Options_Master_TEST', 'Market_Options_ID', \n",
    "#     'company_name', 'vendor_name'\n",
    "# )\n",
    "\n",
    "# # Match on multiple columns\n",
    "# results_multi = matcher.fuzzy_match_multiple_columns(\n",
    "#     'Options_Master_TEST', 'Market_Options_ID',\n",
    "#     [('company_name', 'vendor_name'), ('city', 'location')]\n",
    "# )\n",
    "\n",
    "\n",
    "# # Match first_name OR last_name OR nickname to full_name\n",
    "# results = matcher.fuzzy_match_many_to_one(\n",
    "#     \"Options_Master_TEST\",\n",
    "#     \"Market_Options_ID\",\n",
    "#     df1_columns=[\"first_name\", \"last_name\", \"nickname\"],\n",
    "#     df2_column=\"full_name\",\n",
    "#     combine_method='best'  # Try each column, take best match\n",
    "# )\n",
    "\n",
    "# Combine address fields before matching\n",
    "results = matcher.fuzzy_match_many_to_one(\n",
    "    \"Options_Master_TEST\",\n",
    "    \"Market_Options_ID\",\n",
    "    df1_columns=[\"SITE(Address)\", \"CITY\", \"STATE\", 'ZIP / POSTAL CODE'],\n",
    "    df2_column=\"Project Location\",\n",
    "    combine_method='concatenate'  # Join all columns first\n",
    ")\n",
    "\n",
    "# # Match building name variations to property name\n",
    "# results = matcher.fuzzy_match_many_to_one(\n",
    "#     \"dataset1\",\n",
    "#     \"dataset2\",\n",
    "#     df1_columns=[\"Property_Building_Name\", \"Property_Name\", \"Property_Address_1\"],\n",
    "#     df2_column=\"LocationName\",\n",
    "#     combine_method='best'\n",
    "# )\n",
    "# Export\n",
    "# matcher.export_results(results, 'matches.csv')\n",
    "\n",
    "results"
   ]
  },
  {
   "cell_type": "code",
   "execution_count": null,
   "id": "2bd95ced",
   "metadata": {},
   "outputs": [],
   "source": []
  }
 ],
 "metadata": {
  "kernelspec": {
   "display_name": "myenv",
   "language": "python",
   "name": "python3"
  },
  "language_info": {
   "codemirror_mode": {
    "name": "ipython",
    "version": 3
   },
   "file_extension": ".py",
   "mimetype": "text/x-python",
   "name": "python",
   "nbconvert_exporter": "python",
   "pygments_lexer": "ipython3",
   "version": "3.13.0"
  }
 },
 "nbformat": 4,
 "nbformat_minor": 5
}
